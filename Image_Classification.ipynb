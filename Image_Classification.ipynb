{
  "nbformat": 4,
  "nbformat_minor": 0,
  "metadata": {
    "colab": {
      "name": "Image_Classification",
      "version": "0.3.2",
      "provenance": [],
      "include_colab_link": true
    },
    "kernelspec": {
      "name": "python3",
      "display_name": "Python 3"
    },
    "accelerator": "GPU"
  },
  "cells": [
    {
      "cell_type": "markdown",
      "metadata": {
        "id": "view-in-github",
        "colab_type": "text"
      },
      "source": [
        "<a href=\"https://colab.research.google.com/github/hmatny/image_classification/blob/master/Image_Classification.ipynb\" target=\"_parent\"><img src=\"https://colab.research.google.com/assets/colab-badge.svg\" alt=\"Open In Colab\"/></a>"
      ]
    },
    {
      "metadata": {
        "id": "pCsaBT3HI7lC",
        "colab_type": "code",
        "colab": {}
      },
      "cell_type": "code",
      "source": [
        "import pprint\n",
        "import numpy as np\n",
        "import pandas as pd\n",
        "from IPython.display import display as disp\n",
        "import matplotlib.pyplot as plt\n",
        "import seaborn as sns; sns.set()"
      ],
      "execution_count": 0,
      "outputs": []
    },
    {
      "metadata": {
        "id": "4lDmxnuAJ2eg",
        "colab_type": "code",
        "outputId": "ed0a61a2-e79a-4a93-94cc-75e033fe98d1",
        "colab": {
          "base_uri": "https://localhost:8080/",
          "height": 386
        }
      },
      "cell_type": "code",
      "source": [
        "# extract the images\n",
        "def unpickle(file):\n",
        "    import pickle\n",
        "    with open(file, 'rb') as fo:\n",
        "        dict = pickle.load(fo, encoding='bytes')\n",
        "    return dict\n",
        "\n",
        "!wget http://www.cs.toronto.edu/~kriz/cifar-10-python.tar.gz\n",
        "!tar -xvf cifar-10-python.tar.gz "
      ],
      "execution_count": 2,
      "outputs": [
        {
          "output_type": "stream",
          "text": [
            "--2019-04-28 19:07:53--  http://www.cs.toronto.edu/~kriz/cifar-10-python.tar.gz\n",
            "Resolving www.cs.toronto.edu (www.cs.toronto.edu)... 128.100.3.30\n",
            "Connecting to www.cs.toronto.edu (www.cs.toronto.edu)|128.100.3.30|:80... connected.\n",
            "HTTP request sent, awaiting response... 200 OK\n",
            "Length: 170498071 (163M) [application/x-gzip]\n",
            "Saving to: ‘cifar-10-python.tar.gz.1’\n",
            "\n",
            "cifar-10-python.tar 100%[===================>] 162.60M  8.92MB/s    in 12s     \n",
            "\n",
            "2019-04-28 19:08:06 (13.0 MB/s) - ‘cifar-10-python.tar.gz.1’ saved [170498071/170498071]\n",
            "\n",
            "cifar-10-batches-py/\n",
            "cifar-10-batches-py/data_batch_4\n",
            "cifar-10-batches-py/readme.html\n",
            "cifar-10-batches-py/test_batch\n",
            "cifar-10-batches-py/data_batch_3\n",
            "cifar-10-batches-py/batches.meta\n",
            "cifar-10-batches-py/data_batch_2\n",
            "cifar-10-batches-py/data_batch_5\n",
            "cifar-10-batches-py/data_batch_1\n"
          ],
          "name": "stdout"
        }
      ]
    },
    {
      "metadata": {
        "id": "f2QIhI1pJAO2",
        "colab_type": "code",
        "colab": {}
      },
      "cell_type": "code",
      "source": [
        "def normalize(lst):\n",
        "    s = sum(lst)\n",
        "    return map(lambda x: float(x)/s, lst)\n",
        "\n",
        "\n",
        "def get_train_data(numBatches):\n",
        "    train_data = []\n",
        "    train_labels = []\n",
        "    file = \"cifar-10-batches-py/data_batch_\" + str(numBatches)\n",
        "    batch_data_2 = unpickle(file)\n",
        "    train_data = batch_data_2[b'data']\n",
        "    train_labels = batch_data_2[b'labels']\n",
        "\n",
        "    for i in range(1,numBatches):\n",
        "        file = \"cifar-10-batches-py/data_batch_\" + str(i)\n",
        "        batch_data = unpickle(file)\n",
        "        data = batch_data[b'data']\n",
        "        labels = batch_data[b'labels']\n",
        "        \n",
        "        train_data = np.concatenate((train_data, data),0)\n",
        "        train_labels= np.concatenate((train_labels, labels),0)\n",
        "        \n",
        "    return train_data, train_labels\n",
        "\n",
        "def get_test_data():\n",
        "    file = \"cifar-10-batches-py/test_batch\"\n",
        "    test_batch = unpickle(file)\n",
        "    test_data = test_batch[b'data']\n",
        "    test_labels = test_batch[b'labels']\n",
        "    \n",
        "    return test_data, test_labels\n",
        "\n",
        "\n"
      ],
      "execution_count": 0,
      "outputs": []
    },
    {
      "metadata": {
        "id": "SVHcxgj1JC_h",
        "colab_type": "code",
        "colab": {}
      },
      "cell_type": "code",
      "source": [
        "# retrieve train_data, train_labels\n",
        "train_data, train_labels = get_train_data(5)\n",
        "test_data, test_labels = get_test_data()\n",
        "\n",
        "train_labels = train_labels\n",
        "train_data = train_data\n",
        "\n",
        "test_labels = test_labels\n",
        "test_data = test_data\n",
        "\n",
        "from sklearn.preprocessing import StandardScaler\n",
        "scaler = StandardScaler()\n",
        "train_data = train_data.astype(\"float\")\n",
        "# Fit on training set only.\n",
        "scaler.fit(train_data)\n",
        "# Apply transform to both the training set and the test set.\n",
        "train_data = scaler.transform(train_data)\n",
        "test_data = test_data.astype(\"float\")\n",
        "test_data = scaler.transform(test_data)\n",
        "\n",
        "from sklearn.decomposition import PCA\n",
        "# Make an instance of the Model\n",
        "pca = PCA(.95)\n",
        "pca.fit(train_data)\n",
        "train_data = pca.transform(train_data)\n",
        "test_data = pca.transform(test_data)\n",
        "# # normalize data\n",
        "# norm_data = []\n",
        "# for i in test_data:\n",
        "#     norm_data.append(i/max(i))\n",
        "    \n",
        "# test_data = norm_data\n",
        "\n",
        "# norm_data = []\n",
        "# for i in train_data:\n",
        "#     norm_data.append(i/max(i))\n",
        "# train_data = norm_data\n",
        "\n",
        "\n"
      ],
      "execution_count": 0,
      "outputs": []
    },
    {
      "metadata": {
        "id": "Lqc1GTawJDJR",
        "colab_type": "code",
        "colab": {}
      },
      "cell_type": "code",
      "source": [
        "from sklearn.neighbors import KNeighborsClassifier\n",
        "from sklearn import metrics\n",
        "\n",
        "def fit_knn(train_data, train_labels, k):\n",
        "    knn = KNeighborsClassifier(k)\n",
        "    knn.fit(train_data,train_labels) #fit data in classifier\n",
        "    return knn\n",
        "\n",
        "#retrieve knn model with specified number of k\n",
        "knn = fit_knn(train_data[:30000], train_labels[:30000], 10)"
      ],
      "execution_count": 0,
      "outputs": []
    },
    {
      "metadata": {
        "id": "rzE1446F1KaD",
        "colab_type": "code",
        "colab": {}
      },
      "cell_type": "code",
      "source": [
        "import time\n",
        "knn_data = test_data\n",
        "knn_labels = test_labels\n",
        "t = time.time()\n",
        "pred_labels = knn.predict(knn_data)\n",
        "knn_time = time.time()-t\n"
      ],
      "execution_count": 0,
      "outputs": []
    },
    {
      "metadata": {
        "id": "56j1yLswKzgM",
        "colab_type": "text"
      },
      "cell_type": "markdown",
      "source": [
        "# ** KNN with K=10:**"
      ]
    },
    {
      "metadata": {
        "id": "qGrum_dkJDMe",
        "colab_type": "code",
        "outputId": "add3f696-1e8f-4816-e8cd-ddaad0cdce63",
        "colab": {
          "base_uri": "https://localhost:8080/",
          "height": 308
        }
      },
      "cell_type": "code",
      "source": [
        "from sklearn.metrics import classification_report, confusion_matrix, accuracy_score\n",
        "\n",
        "conf = confusion_matrix(knn_labels, pred_labels)\n",
        "print(\"Time Taken: \" + str(knn_time))\n",
        "print(\"Accuracy: \" + str(accuracy_score(knn_labels, pred_labels)))\n",
        "\n",
        "# Plot non-normalized confusion matrix\n",
        "conf_matrix = sns.heatmap(conf)"
      ],
      "execution_count": 105,
      "outputs": [
        {
          "output_type": "stream",
          "text": [
            "Time Taken: 105.45431709289551\n",
            "Accuracy: 0.3478\n"
          ],
          "name": "stdout"
        },
        {
          "output_type": "display_data",
          "data": {
            "image/png": "[encoded data removed]",
            "text/plain": [
              "<Figure size 432x288 with 2 Axes>"
            ]
          },
          "metadata": {
            "tags": []
          }
        }
      ]
    },
    {
      "metadata": {
        "id": "faYjATsWMLyM",
        "colab_type": "text"
      },
      "cell_type": "markdown",
      "source": [
        "# **KNN Cross Validation**"
      ]
    },
    {
      "metadata": {
        "id": "yHANvVdSJDQY",
        "colab_type": "code",
        "colab": {
          "base_uri": "https://localhost:8080/",
          "height": 376
        },
        "outputId": "78d1110b-818d-42a4-ea44-6f6347ead527"
      },
      "cell_type": "code",
      "source": [
        "## CROSS VALIDATION\n",
        "from sklearn.model_selection import GridSearchCV\n",
        "def cross_val(a,b):\n",
        "    #create new a knn model\n",
        "    knn2 = KNeighborsClassifier()\n",
        "    #create a dictionary of all values we want to test for n_neighbors \n",
        "    param_grid = {'n_neighbors': np.arange(a,b)}\n",
        "    #use gridsearch to test all values for n_neighbors\n",
        "    knn_gscv = GridSearchCV(knn2, param_grid, cv=5)\n",
        "    #fit model to data\n",
        "    print(\"fitting cross val model\")\n",
        "    knn_gscv.fit(train_data[:10000],train_labels[:10000])\n",
        "    #check top performing n_neighbors value\n",
        "    k = knn_gscv.best_params_['n_neighbors']\n",
        "    \n",
        "    return k\n",
        "\n",
        "t = time.time()\n",
        "best_k = cross_val(5,15)\n",
        "print(\"K used:\" + str(best_k))\n",
        "# create the knn model with K retrieved from cross validation\n",
        "knn = fit_knn(train_data, train_labels, best_k)\n",
        "print(\"creating model with best_K\")\n",
        "knn_data = test_data[:1000]\n",
        "knn_labels = test_labels[:1000]\n",
        "pred_labels = knn.predict(knn_data)\n",
        "print(\"predicting\")\n",
        "knn_time = time.time()-t\n",
        "\n",
        "conf = confusion_matrix(knn_labels, pred_labels)\n",
        "print(\"Time Taken: \" + str(knn_time))\n",
        "print(\"Accuracy: \" + str(accuracy_score(knn_labels, pred_labels)))\n",
        "\n",
        "# Plot non-normalized confusion matrix\n",
        "conf_matrix = sns.heatmap(conf)"
      ],
      "execution_count": 25,
      "outputs": [
        {
          "output_type": "stream",
          "text": [
            "fitting cross val model\n",
            "K used:12\n",
            "creating model with best_K\n",
            "predicting\n",
            "Time Taken: 1416.6873371601105\n",
            "Accuracy: 0.362\n"
          ],
          "name": "stdout"
        },
        {
          "output_type": "display_data",
          "data": {
            "image/png": "[encoded data removed]",
            "text/plain": [
              "<Figure size 432x288 with 2 Axes>"
            ]
          },
          "metadata": {
            "tags": []
          }
        }
      ]
    },
    {
      "metadata": {
        "id": "pZvW6OEs-GSX",
        "colab_type": "text"
      },
      "cell_type": "markdown",
      "source": [
        "# SVM"
      ]
    },
    {
      "metadata": {
        "id": "O7WCB88_JDSw",
        "colab_type": "code",
        "colab": {}
      },
      "cell_type": "code",
      "source": [
        "# changes the labels to apply binary classification (1 vs 0)\n",
        "\n",
        "def binary_labels(labels, target):\n",
        "    return [1 if label == target else 0 for label in labels]"
      ],
      "execution_count": 0,
      "outputs": []
    },
    {
      "metadata": {
        "id": "oblKsjzwJDYg",
        "colab_type": "code",
        "colab": {}
      },
      "cell_type": "code",
      "source": [
        "#svm\n",
        "# from sklearn.svm import SVC\n",
        "from sklearn.svm import LinearSVC\n",
        "\n",
        "def predict_svm(train,test):\n",
        "    train_data,train_labels = train\n",
        "    test_data,test_labels = test\n",
        "    # 10 svms to predict each class 1vsALL\n",
        "    svms = [LinearSVC(C=4e-2) for i in range(10)]\n",
        "    # fit 10 models\n",
        "    svms = [svms[i].fit(train_data,binary_labels(train_labels,i)) for i in range(10)]\n",
        "    # should return list of lists, where predictions[5] = labels predicted for class 5 ...\n",
        "    print(\"Now predicting!\")\n",
        "    preds = [svms[i].predict(test_data) for i in range(10)]\n",
        "    return preds\n",
        "\n",
        "def svm_acc(preds, test_labels):\n",
        "    acc = 0\n",
        "    for i in range(len(test_labels)):\n",
        "        label = test_labels[i]\n",
        "        svm_label = preds[label]\n",
        "        if svm_label[i] == 1:\n",
        "            acc += 1\n",
        "    return acc/len(test_labels)\n",
        "\n",
        "def convert_predictions(preds):\n",
        "    tot_preds = list(range(len(preds[0])))\n",
        "    for i in range(len(preds)):\n",
        "        pred = preds[i]\n",
        "        for j in range(len(pred)):\n",
        "            if pred[j] == 1:\n",
        "                tot_preds[j] = i\n",
        "    return tot_preds"
      ],
      "execution_count": 0,
      "outputs": []
    },
    {
      "metadata": {
        "id": "X1LWAsdgJDnl",
        "colab_type": "code",
        "colab": {}
      },
      "cell_type": "code",
      "source": [
        "# #grab data\n",
        "# train_data, train_labels = get_train_data(5)\n",
        "# test_data, test_labels = get_test_data()\n",
        "# #slice labels\n",
        "\n",
        "svm_train_labels = train_labels\n",
        "svm_train_data = train_data\n",
        "\n",
        "svm_test_labels = test_labels\n",
        "svm_test_data = test_data\n",
        "# #convert binary labels"
      ],
      "execution_count": 0,
      "outputs": []
    },
    {
      "metadata": {
        "id": "u_AMe_ncJDqe",
        "colab_type": "code",
        "outputId": "ad4036e8-5c0d-42e9-d4ff-9b1fe845da79",
        "colab": {
          "base_uri": "https://localhost:8080/",
          "height": 411
        }
      },
      "cell_type": "code",
      "source": [
        "import time\n",
        "start = time.time()\n",
        "preds = predict_svm((svm_train_data[:30000],svm_train_labels[:30000]),(svm_test_data,svm_test_labels))\n",
        "print(\"time: \" + str(time.time()-start))"
      ],
      "execution_count": 109,
      "outputs": [
        {
          "output_type": "stream",
          "text": [
            "/usr/local/lib/python3.6/dist-packages/sklearn/svm/base.py:931: ConvergenceWarning: Liblinear failed to converge, increase the number of iterations.\n",
            "  \"the number of iterations.\", ConvergenceWarning)\n",
            "/usr/local/lib/python3.6/dist-packages/sklearn/svm/base.py:931: ConvergenceWarning: Liblinear failed to converge, increase the number of iterations.\n",
            "  \"the number of iterations.\", ConvergenceWarning)\n",
            "/usr/local/lib/python3.6/dist-packages/sklearn/svm/base.py:931: ConvergenceWarning: Liblinear failed to converge, increase the number of iterations.\n",
            "  \"the number of iterations.\", ConvergenceWarning)\n",
            "/usr/local/lib/python3.6/dist-packages/sklearn/svm/base.py:931: ConvergenceWarning: Liblinear failed to converge, increase the number of iterations.\n",
            "  \"the number of iterations.\", ConvergenceWarning)\n",
            "/usr/local/lib/python3.6/dist-packages/sklearn/svm/base.py:931: ConvergenceWarning: Liblinear failed to converge, increase the number of iterations.\n",
            "  \"the number of iterations.\", ConvergenceWarning)\n",
            "/usr/local/lib/python3.6/dist-packages/sklearn/svm/base.py:931: ConvergenceWarning: Liblinear failed to converge, increase the number of iterations.\n",
            "  \"the number of iterations.\", ConvergenceWarning)\n",
            "/usr/local/lib/python3.6/dist-packages/sklearn/svm/base.py:931: ConvergenceWarning: Liblinear failed to converge, increase the number of iterations.\n",
            "  \"the number of iterations.\", ConvergenceWarning)\n",
            "/usr/local/lib/python3.6/dist-packages/sklearn/svm/base.py:931: ConvergenceWarning: Liblinear failed to converge, increase the number of iterations.\n",
            "  \"the number of iterations.\", ConvergenceWarning)\n",
            "/usr/local/lib/python3.6/dist-packages/sklearn/svm/base.py:931: ConvergenceWarning: Liblinear failed to converge, increase the number of iterations.\n",
            "  \"the number of iterations.\", ConvergenceWarning)\n"
          ],
          "name": "stderr"
        },
        {
          "output_type": "stream",
          "text": [
            "Now predicting!\n",
            "time: 379.6524224281311\n"
          ],
          "name": "stdout"
        },
        {
          "output_type": "stream",
          "text": [
            "/usr/local/lib/python3.6/dist-packages/sklearn/svm/base.py:931: ConvergenceWarning: Liblinear failed to converge, increase the number of iterations.\n",
            "  \"the number of iterations.\", ConvergenceWarning)\n"
          ],
          "name": "stderr"
        }
      ]
    },
    {
      "metadata": {
        "id": "xZSSD0fwJDs3",
        "colab_type": "code",
        "outputId": "e6b27085-5e8b-4cc2-f0b8-3ce5004a950c",
        "colab": {
          "base_uri": "https://localhost:8080/",
          "height": 580
        }
      },
      "cell_type": "code",
      "source": [
        "import random\n",
        "\n",
        "svm_preds = convert_predictions(preds)\n",
        "svm_preds =  [random.randint(0,9) if p > 9 else p for p in svm_preds]\n",
        "\n",
        "from sklearn.metrics import classification_report, confusion_matrix\n",
        "\n",
        "print(\"Accuracy: \" + str(accuracy_score(svm_test_labels, svm_preds)))\n",
        "conf = confusion_matrix(svm_test_labels, svm_preds)\n",
        "print(classification_report(svm_test_labels,svm_preds))\n",
        "conf_matrix = sns.heatmap(conf)\n"
      ],
      "execution_count": 110,
      "outputs": [
        {
          "output_type": "stream",
          "text": [
            "Accuracy: 0.157\n",
            "              precision    recall  f1-score   support\n",
            "\n",
            "           0       0.14      0.14      0.14      1000\n",
            "           1       0.19      0.20      0.20      1000\n",
            "           2       0.12      0.10      0.11      1000\n",
            "           3       0.11      0.10      0.11      1000\n",
            "           4       0.12      0.11      0.12      1000\n",
            "           5       0.12      0.11      0.12      1000\n",
            "           6       0.15      0.15      0.15      1000\n",
            "           7       0.19      0.20      0.19      1000\n",
            "           8       0.20      0.24      0.22      1000\n",
            "           9       0.19      0.21      0.20      1000\n",
            "\n",
            "   micro avg       0.16      0.16      0.16     10000\n",
            "   macro avg       0.15      0.16      0.16     10000\n",
            "weighted avg       0.15      0.16      0.16     10000\n",
            "\n"
          ],
          "name": "stdout"
        },
        {
          "output_type": "display_data",
          "data": {
            "image/png": "[encoded data removed]",
            "text/plain": [
              "<Figure size 432x288 with 2 Axes>"
            ]
          },
          "metadata": {
            "tags": []
          }
        }
      ]
    },
    {
      "metadata": {
        "id": "7MhI7Fn1Jd8l",
        "colab_type": "code",
        "colab": {
          "base_uri": "https://localhost:8080/",
          "height": 307
        },
        "outputId": "f875637b-27df-4989-ed2b-50078416990c"
      },
      "cell_type": "code",
      "source": [
        ""
      ],
      "execution_count": 49,
      "outputs": [
        {
          "output_type": "error",
          "ename": "ValueError",
          "evalue": "ignored",
          "traceback": [
            "\u001b[0;31m---------------------------------------------------------------------------\u001b[0m",
            "\u001b[0;31mValueError\u001b[0m                                Traceback (most recent call last)",
            "\u001b[0;32m<ipython-input-49-c7dbaea89847>\u001b[0m in \u001b[0;36m<module>\u001b[0;34m()\u001b[0m\n\u001b[0;32m----> 1\u001b[0;31m \u001b[0mprint\u001b[0m\u001b[0;34m(\u001b[0m\u001b[0mconfusion_matrix\u001b[0m\u001b[0;34m(\u001b[0m\u001b[0mtest_labels\u001b[0m\u001b[0;34m,\u001b[0m\u001b[0msvm_preds\u001b[0m\u001b[0;34m)\u001b[0m\u001b[0;34m)\u001b[0m\u001b[0;34m\u001b[0m\u001b[0;34m\u001b[0m\u001b[0m\n\u001b[0m",
            "\u001b[0;32m/usr/local/lib/python3.6/dist-packages/sklearn/metrics/classification.py\u001b[0m in \u001b[0;36mconfusion_matrix\u001b[0;34m(y_true, y_pred, labels, sample_weight)\u001b[0m\n\u001b[1;32m    251\u001b[0m \u001b[0;34m\u001b[0m\u001b[0m\n\u001b[1;32m    252\u001b[0m     \"\"\"\n\u001b[0;32m--> 253\u001b[0;31m     \u001b[0my_type\u001b[0m\u001b[0;34m,\u001b[0m \u001b[0my_true\u001b[0m\u001b[0;34m,\u001b[0m \u001b[0my_pred\u001b[0m \u001b[0;34m=\u001b[0m \u001b[0m_check_targets\u001b[0m\u001b[0;34m(\u001b[0m\u001b[0my_true\u001b[0m\u001b[0;34m,\u001b[0m \u001b[0my_pred\u001b[0m\u001b[0;34m)\u001b[0m\u001b[0;34m\u001b[0m\u001b[0;34m\u001b[0m\u001b[0m\n\u001b[0m\u001b[1;32m    254\u001b[0m     \u001b[0;32mif\u001b[0m \u001b[0my_type\u001b[0m \u001b[0;32mnot\u001b[0m \u001b[0;32min\u001b[0m \u001b[0;34m(\u001b[0m\u001b[0;34m\"binary\"\u001b[0m\u001b[0;34m,\u001b[0m \u001b[0;34m\"multiclass\"\u001b[0m\u001b[0;34m)\u001b[0m\u001b[0;34m:\u001b[0m\u001b[0;34m\u001b[0m\u001b[0;34m\u001b[0m\u001b[0m\n\u001b[1;32m    255\u001b[0m         \u001b[0;32mraise\u001b[0m \u001b[0mValueError\u001b[0m\u001b[0;34m(\u001b[0m\u001b[0;34m\"%s is not supported\"\u001b[0m \u001b[0;34m%\u001b[0m \u001b[0my_type\u001b[0m\u001b[0;34m)\u001b[0m\u001b[0;34m\u001b[0m\u001b[0;34m\u001b[0m\u001b[0m\n",
            "\u001b[0;32m/usr/local/lib/python3.6/dist-packages/sklearn/metrics/classification.py\u001b[0m in \u001b[0;36m_check_targets\u001b[0;34m(y_true, y_pred)\u001b[0m\n\u001b[1;32m     69\u001b[0m     \u001b[0my_pred\u001b[0m \u001b[0;34m:\u001b[0m \u001b[0marray\u001b[0m \u001b[0;32mor\u001b[0m \u001b[0mindicator\u001b[0m \u001b[0mmatrix\u001b[0m\u001b[0;34m\u001b[0m\u001b[0;34m\u001b[0m\u001b[0m\n\u001b[1;32m     70\u001b[0m     \"\"\"\n\u001b[0;32m---> 71\u001b[0;31m     \u001b[0mcheck_consistent_length\u001b[0m\u001b[0;34m(\u001b[0m\u001b[0my_true\u001b[0m\u001b[0;34m,\u001b[0m \u001b[0my_pred\u001b[0m\u001b[0;34m)\u001b[0m\u001b[0;34m\u001b[0m\u001b[0;34m\u001b[0m\u001b[0m\n\u001b[0m\u001b[1;32m     72\u001b[0m     \u001b[0mtype_true\u001b[0m \u001b[0;34m=\u001b[0m \u001b[0mtype_of_target\u001b[0m\u001b[0;34m(\u001b[0m\u001b[0my_true\u001b[0m\u001b[0;34m)\u001b[0m\u001b[0;34m\u001b[0m\u001b[0;34m\u001b[0m\u001b[0m\n\u001b[1;32m     73\u001b[0m     \u001b[0mtype_pred\u001b[0m \u001b[0;34m=\u001b[0m \u001b[0mtype_of_target\u001b[0m\u001b[0;34m(\u001b[0m\u001b[0my_pred\u001b[0m\u001b[0;34m)\u001b[0m\u001b[0;34m\u001b[0m\u001b[0;34m\u001b[0m\u001b[0m\n",
            "\u001b[0;32m/usr/local/lib/python3.6/dist-packages/sklearn/utils/validation.py\u001b[0m in \u001b[0;36mcheck_consistent_length\u001b[0;34m(*arrays)\u001b[0m\n\u001b[1;32m    233\u001b[0m     \u001b[0;32mif\u001b[0m \u001b[0mlen\u001b[0m\u001b[0;34m(\u001b[0m\u001b[0muniques\u001b[0m\u001b[0;34m)\u001b[0m \u001b[0;34m>\u001b[0m \u001b[0;36m1\u001b[0m\u001b[0;34m:\u001b[0m\u001b[0;34m\u001b[0m\u001b[0;34m\u001b[0m\u001b[0m\n\u001b[1;32m    234\u001b[0m         raise ValueError(\"Found input variables with inconsistent numbers of\"\n\u001b[0;32m--> 235\u001b[0;31m                          \" samples: %r\" % [int(l) for l in lengths])\n\u001b[0m\u001b[1;32m    236\u001b[0m \u001b[0;34m\u001b[0m\u001b[0m\n\u001b[1;32m    237\u001b[0m \u001b[0;34m\u001b[0m\u001b[0m\n",
            "\u001b[0;31mValueError\u001b[0m: Found input variables with inconsistent numbers of samples: [10000, 100]"
          ]
        }
      ]
    },
    {
      "metadata": {
        "id": "dXbBfNX1Jd_0",
        "colab_type": "code",
        "colab": {
          "base_uri": "https://localhost:8080/",
          "height": 34
        },
        "outputId": "02aeb2b5-5fe6-49ec-a838-adf80dcbc50d"
      },
      "cell_type": "code",
      "source": [
        "from sklearn.svm import LinearSVC\n",
        "from sklearn.model_selection import cross_val_score\n",
        "\n",
        "clf = LinearSVC(C=4e-4)\n",
        "scores = cross_val_score(clf, train_data, train_labels, cv=5)\n",
        "print(scores)\n",
        "\n"
      ],
      "execution_count": 99,
      "outputs": [
        {
          "output_type": "stream",
          "text": [
            "[0.401  0.4107 0.3968 0.4091 0.4032]\n"
          ],
          "name": "stdout"
        }
      ]
    },
    {
      "metadata": {
        "id": "NGRSxmbOJeDi",
        "colab_type": "code",
        "colab": {
          "base_uri": "https://localhost:8080/",
          "height": 291
        },
        "outputId": "852e9c56-b298-4002-9562-f76d6cc71842"
      },
      "cell_type": "code",
      "source": [
        "import seaborn as sns; sns.set()\n",
        "\n",
        "conf_mat = sns.heatmap(conf)\n",
        "print(len(train_data[0]))"
      ],
      "execution_count": 108,
      "outputs": [
        {
          "output_type": "stream",
          "text": [
            "221\n"
          ],
          "name": "stdout"
        },
        {
          "output_type": "display_data",
          "data": {
            "image/png": "[encoded data removed]",
            "text/plain": [
              "<Figure size 432x288 with 2 Axes>"
            ]
          },
          "metadata": {
            "tags": []
          }
        }
      ]
    },
    {
      "metadata": {
        "id": "D0xzg8gPJDXI",
        "colab_type": "code",
        "colab": {}
      },
      "cell_type": "code",
      "source": [
        ""
      ],
      "execution_count": 0,
      "outputs": []
    },
    {
      "metadata": {
        "id": "lj8B8Bj5JDU3",
        "colab_type": "code",
        "colab": {}
      },
      "cell_type": "code",
      "source": [
        ""
      ],
      "execution_count": 0,
      "outputs": []
    }
  ]
}