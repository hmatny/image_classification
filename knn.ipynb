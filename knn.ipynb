{
 "cells": [
  {
   "cell_type": "markdown",
   "metadata": {},
   "source": [
    "## K Nearest Neighbors"
   ]
  },
  {
   "cell_type": "code",
   "execution_count": 3,
   "metadata": {},
   "outputs": [],
   "source": [
    "import pprint\n",
    "import numpy as np\n",
    "import pandas as pd\n",
    "import knn_images\n",
    "from IPython.display import display as disp\n",
    "import matplotlib.pyplot as plt\n"
   ]
  },
  {
   "cell_type": "code",
   "execution_count": 4,
   "metadata": {},
   "outputs": [],
   "source": [
    "def get_train_data(numBatches):\n",
    "    train_data = []\n",
    "    train_labels = []\n",
    "    file = \"cifar-10-batches-py/data_batch_\" + str(numBatches)\n",
    "    batch_data_2 = knn_images.unpickle(file)\n",
    "    train_data = batch_data_2[b'data']\n",
    "    train_labels = batch_data_2[b'labels']\n",
    "\n",
    "    for i in range(1,numBatches):\n",
    "        file = \"cifar-10-batches-py/data_batch_\" + str(i)\n",
    "        batch_data = knn_images.unpickle(file)\n",
    "        data = batch_data[b'data']\n",
    "        labels = batch_data[b'labels']\n",
    "        \n",
    "        train_data = np.concatenate((train_data, data),0)\n",
    "        train_labels= np.concatenate((train_labels, labels),0)\n",
    "        \n",
    "    return train_data, train_labels\n",
    "\n",
    "def get_test_data():\n",
    "    file = \"cifar-10-batches-py/test_batch\"\n",
    "    test_batch = knn_images.unpickle(file)\n",
    "    test_data = test_batch[b'data']\n",
    "    test_labels = test_batch[b'labels']\n",
    "    return test_data, test_labels"
   ]
  },
  {
   "cell_type": "code",
   "execution_count": 9,
   "metadata": {},
   "outputs": [],
   "source": [
    "# retrieve train_data, train_labels\n",
    "train_data, train_labels = get_train_data(5)\n",
    "test_data, test_labels = get_test_data()\n",
    "\n",
    "train_labels = train_labels[:500]\n",
    "train_data = train_data[:500]\n",
    "\n",
    "test_labels = test_labels[:100]\n",
    "test_data = test_data[:100]\n",
    "#convert binary labels"
   ]
  },
  {
   "cell_type": "code",
   "execution_count": 10,
   "metadata": {},
   "outputs": [],
   "source": [
    "from sklearn.neighbors import KNeighborsClassifier\n",
    "from sklearn import metrics\n",
    "\n",
    "def fit_knn(train_data, train_labels, k):\n",
    "    knn = KNeighborsClassifier(1)\n",
    "    knn.fit(train_data,train_labels) #fit data in classifier\n",
    "    return knn\n",
    "\n",
    "#retrieve knn model with specified number of k\n",
    "knn = fit_knn(train_data, train_labels, 10)"
   ]
  },
  {
   "cell_type": "code",
   "execution_count": 11,
   "metadata": {},
   "outputs": [
    {
     "name": "stdout",
     "output_type": "stream",
     "text": [
      "time: 0.32402896881103516\n"
     ]
    }
   ],
   "source": [
    "import time\n",
    "\n",
    "start = time.time()\n",
    "pred_labels = knn.predict(test_data)\n",
    "print(\"time: \" + str(time.time()-start))\n",
    "acc = 0\n",
    "\n",
    "for i in range(0,len(pred_labels)):\n",
    "    if pred_labels[i] == test_labels[i]:\n",
    "        acc += 1\n"
   ]
  },
  {
   "cell_type": "code",
   "execution_count": 13,
   "metadata": {},
   "outputs": [
    {
     "name": "stdout",
     "output_type": "stream",
     "text": [
      "0.2\n",
      "[[3 0 0 0 3 1 0 0 1 2]\n",
      " [1 1 1 0 1 0 1 0 1 0]\n",
      " [0 0 2 0 4 0 1 1 0 0]\n",
      " [0 0 1 0 3 1 3 1 1 0]\n",
      " [0 0 1 0 3 1 1 0 1 0]\n",
      " [0 0 1 0 5 0 0 0 2 0]\n",
      " [0 0 3 0 7 1 4 0 1 0]\n",
      " [2 0 3 0 2 2 0 1 0 1]\n",
      " [3 0 0 0 1 0 0 1 6 2]\n",
      " [2 0 1 0 3 0 0 0 5 0]]\n",
      "             precision    recall  f1-score   support\n",
      "\n",
      "          0       0.27      0.30      0.29        10\n",
      "          1       1.00      0.17      0.29         6\n",
      "          2       0.15      0.25      0.19         8\n",
      "          3       0.00      0.00      0.00        10\n",
      "          4       0.09      0.43      0.15         7\n",
      "          5       0.00      0.00      0.00         8\n",
      "          6       0.40      0.25      0.31        16\n",
      "          7       0.25      0.09      0.13        11\n",
      "          8       0.33      0.46      0.39        13\n",
      "          9       0.00      0.00      0.00        11\n",
      "\n",
      "avg / total       0.24      0.20      0.19       100\n",
      "\n",
      "[4 8 0 8 4 4 6 8 4 8 5 0 8 2 8 4 4 5 9 4 2 0 8 4 4 4 4 0 4 6 2 4 5 4 8 6 2\n",
      " 0 8 4 4 6 8 4 9 0 4 8 4 4 8 8 4 5 0 8 7 2 4 5 5 2 6 7 6 4 1 2 6 0 7 2 7 8\n",
      " 9 4 2 8 6 8 0 2 4 4 2 2 4 0 9 4 4 6 8 2 6 4 4 4 0 9]\n"
     ]
    },
    {
     "name": "stderr",
     "output_type": "stream",
     "text": [
      "/Users/Hadi/anaconda3/lib/python3.6/site-packages/sklearn/metrics/classification.py:1135: UndefinedMetricWarning: Precision and F-score are ill-defined and being set to 0.0 in labels with no predicted samples.\n",
      "  'precision', 'predicted', average, warn_for)\n"
     ]
    }
   ],
   "source": [
    "from sklearn.metrics import classification_report, confusion_matrix\n",
    "\n",
    "print(acc/len(test_data))\n",
    "print(confusion_matrix(test_labels[:500], pred_labels))  \n",
    "print(classification_report(test_labels[:500], pred_labels))  \n"
   ]
  },
  {
   "cell_type": "markdown",
   "metadata": {},
   "source": [
    "## SVM"
   ]
  },
  {
   "cell_type": "code",
   "execution_count": 18,
   "metadata": {},
   "outputs": [],
   "source": [
    "# changes the labels to apply binary classification (1 vs 0)\n",
    "\n",
    "def binary_labels(labels, target):\n",
    "    return [1 if label == target else 0 for label in labels]"
   ]
  },
  {
   "cell_type": "code",
   "execution_count": 25,
   "metadata": {},
   "outputs": [],
   "source": [
    "#svm\n",
    "from sklearn.svm import SVC\n",
    "\n",
    "def predict_svm(train,test):\n",
    "    train_data,train_labels = train\n",
    "    test_data,test_labels = test\n",
    "    # 10 svms to predict each class 1vsALL\n",
    "    svms = [SVC(kernel=\"linear\") for i in range(10)]\n",
    "    # fit 10 models\n",
    "    svms = [svms[i].fit(train_data,binary_labels(train_labels,i)) for i in range(10)]\n",
    "    # should return list of lists, where predictions[5] = labels predicted for class 5 ...\n",
    "    preds = [svms[i].predict(test_data) for i in range(10)]\n",
    "    return preds\n",
    "\n",
    "def svm_acc(preds, test_labels):\n",
    "    acc = 0\n",
    "    for i in range(len(test_labels)):\n",
    "        label = test_labels[i]\n",
    "        svm_label = preds[label]\n",
    "        if svm_label[i] == 1:\n",
    "            acc += 1\n",
    "    return acc/len(test_labels)\n",
    "\n",
    "def convert_predictions(preds):\n",
    "    tot_preds = list(range(len(preds[0])))\n",
    "    for i in range(len(preds)):\n",
    "        pred = preds[i]\n",
    "        for j in range(len(pred)):\n",
    "            if pred[j] == 1:\n",
    "                tot_preds[j] = i\n",
    "    return tot_preds"
   ]
  },
  {
   "cell_type": "code",
   "execution_count": 26,
   "metadata": {},
   "outputs": [],
   "source": [
    "#grab data\n",
    "train_data, train_labels = get_train_data(5)\n",
    "test_data, test_labels = get_test_data()\n",
    "#slice labels\n",
    "\n",
    "train_labels = train_labels[:500]\n",
    "train_data = train_data[:500]\n",
    "\n",
    "test_labels = test_labels[:100]\n",
    "test_data = test_data[:100]\n",
    "#convert binary labels"
   ]
  },
  {
   "cell_type": "code",
   "execution_count": 27,
   "metadata": {},
   "outputs": [
    {
     "name": "stdout",
     "output_type": "stream",
     "text": [
      "0.26\n"
     ]
    }
   ],
   "source": [
    "preds = predict_svm((train_data,train_labels),(test_data,test_labels))\n",
    "acc = svm_acc(preds, test_labels)\n",
    "print(acc)"
   ]
  },
  {
   "cell_type": "code",
   "execution_count": 30,
   "metadata": {},
   "outputs": [
    {
     "name": "stdout",
     "output_type": "stream",
     "text": [
      "[3, 9, 8, 7, 4, 7, 6, 6, 3, 9, 10, 11, 4, 13, 5, 4, 7, 8, 9, 19, 1, 4, 22, 9, 5, 25, 2, 8, 7, 6, 7, 4, 32, 33, 9, 7, 6, 37, 8, 4, 3, 6, 8, 3, 7, 0, 6, 5, 4, 4, 1, 51, 8, 2, 8, 55, 8, 8, 6, 0, 4, 6, 7, 9, 64, 4, 8, 8, 9, 9, 70, 71, 72, 8, 8, 4, 76, 77, 78, 79, 8, 5, 3, 4, 8, 85, 86, 87, 8, 8, 0, 91, 8, 93, 94, 1, 7, 0, 2, 7]\n",
      "[[2 0 1 ... 0 0 0]\n",
      " [0 0 0 ... 0 0 0]\n",
      " [0 0 0 ... 0 0 0]\n",
      " ...\n",
      " [0 0 0 ... 0 0 0]\n",
      " [0 0 0 ... 0 0 0]\n",
      " [0 0 0 ... 0 0 0]]\n",
      "             precision    recall  f1-score   support\n",
      "\n",
      "          0       0.50      0.20      0.29        10\n",
      "          1       0.00      0.00      0.00         6\n",
      "          2       0.00      0.00      0.00         8\n",
      "          3       0.40      0.20      0.27        10\n",
      "          4       0.00      0.00      0.00         7\n",
      "          5       0.25      0.12      0.17         8\n",
      "          6       0.38      0.19      0.25        16\n",
      "          7       0.10      0.09      0.10        11\n",
      "          8       0.33      0.46      0.39        13\n",
      "          9       0.25      0.18      0.21        11\n",
      "         10       0.00      0.00      0.00         0\n",
      "         11       0.00      0.00      0.00         0\n",
      "         13       0.00      0.00      0.00         0\n",
      "         19       0.00      0.00      0.00         0\n",
      "         22       0.00      0.00      0.00         0\n",
      "         25       0.00      0.00      0.00         0\n",
      "         32       0.00      0.00      0.00         0\n",
      "         33       0.00      0.00      0.00         0\n",
      "         37       0.00      0.00      0.00         0\n",
      "         51       0.00      0.00      0.00         0\n",
      "         55       0.00      0.00      0.00         0\n",
      "         64       0.00      0.00      0.00         0\n",
      "         70       0.00      0.00      0.00         0\n",
      "         71       0.00      0.00      0.00         0\n",
      "         72       0.00      0.00      0.00         0\n",
      "         76       0.00      0.00      0.00         0\n",
      "         77       0.00      0.00      0.00         0\n",
      "         78       0.00      0.00      0.00         0\n",
      "         79       0.00      0.00      0.00         0\n",
      "         85       0.00      0.00      0.00         0\n",
      "         86       0.00      0.00      0.00         0\n",
      "         87       0.00      0.00      0.00         0\n",
      "         91       0.00      0.00      0.00         0\n",
      "         93       0.00      0.00      0.00         0\n",
      "         94       0.00      0.00      0.00         0\n",
      "\n",
      "avg / total       0.25      0.17      0.19       100\n",
      "\n"
     ]
    },
    {
     "name": "stderr",
     "output_type": "stream",
     "text": [
      "/Users/Hadi/anaconda3/lib/python3.6/site-packages/sklearn/metrics/classification.py:1137: UndefinedMetricWarning: Recall and F-score are ill-defined and being set to 0.0 in labels with no true samples.\n",
      "  'recall', 'true', average, warn_for)\n"
     ]
    }
   ],
   "source": [
    "svm_preds = convert_predictions(preds)\n",
    "import random\n",
    "svm_preds = [random.randint(0,9) if label >]\n",
    "print(svm_preds)\n",
    "\n",
    "from sklearn.metrics import classification_report, confusion_matrix\n",
    "\n",
    "print(confusion_matrix(test_labels,svm_preds))  \n",
    "print(classification_report(test_labels,svm_preds))  "
   ]
  },
  {
   "cell_type": "code",
   "execution_count": null,
   "metadata": {},
   "outputs": [],
   "source": []
  }
 ],
 "metadata": {
  "kernelspec": {
   "display_name": "Python 3",
   "language": "python",
   "name": "python3"
  },
  "language_info": {
   "codemirror_mode": {
    "name": "ipython",
    "version": 3
   },
   "file_extension": ".py",
   "mimetype": "text/x-python",
   "name": "python",
   "nbconvert_exporter": "python",
   "pygments_lexer": "ipython3",
   "version": "3.6.5"
  }
 },
 "nbformat": 4,
 "nbformat_minor": 2
}
