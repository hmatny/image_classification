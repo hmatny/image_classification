{
 "cells": [
  {
   "cell_type": "code",
   "execution_count": 175,
   "metadata": {},
   "outputs": [],
   "source": [
    "import pprint\n",
    "import numpy as np\n",
    "import pandas as pd\n",
    "import knn_images\n",
    "from IPython.display import display as disp\n",
    "import matplotlib.pyplot as plt\n"
   ]
  },
  {
   "cell_type": "code",
   "execution_count": 288,
   "metadata": {},
   "outputs": [],
   "source": [
    "def get_train_data(numBatches):\n",
    "    train_data = []\n",
    "    train_labels = []\n",
    "    file = \"cifar-10-batches-py/data_batch_\" + str(numBatches)\n",
    "    batch_data_2 = knn_images.unpickle(file)\n",
    "    train_data = batch_data_2[b'data']\n",
    "    train_labels = batch_data_2[b'labels']\n",
    "\n",
    "    for i in range(1,numBatches):\n",
    "        file = \"cifar-10-batches-py/data_batch_\" + str(i)\n",
    "        batch_data = knn_images.unpickle(file)\n",
    "        data = batch_data[b'data']\n",
    "        labels = batch_data[b'labels']\n",
    "        \n",
    "        train_data = np.concatenate((train_data, data),0)\n",
    "        train_labels= np.concatenate((train_labels, labels),0)\n",
    "        \n",
    "    return train_data, train_labels\n",
    "\n",
    "def get_test_data():\n",
    "    file = \"cifar-10-batches-py/test_batch\"\n",
    "    test_batch = knn_images.unpickle(file)\n",
    "    test_data = test_batch[b'data']\n",
    "    test_labels = test_batch[b'labels']\n",
    "    return test_data, test_labels"
   ]
  },
  {
   "cell_type": "code",
   "execution_count": 289,
   "metadata": {},
   "outputs": [],
   "source": [
    "# retrieve train_data, train_labels\n",
    "train_data, train_labels = get_train_data(5)\n",
    "test_data, test_labels = get_test_data()"
   ]
  },
  {
   "cell_type": "code",
   "execution_count": 282,
   "metadata": {},
   "outputs": [],
   "source": [
    "from sklearn.neighbors import KNeighborsClassifier\n",
    "from sklearn import metrics\n",
    "\n",
    "def fit_knn(train_data, train_labels, k):\n",
    "    knn = KNeighborsClassifier(1)\n",
    "    knn.fit(train_data,train_labels) #fit data in classifier\n",
    "    return knn\n"
   ]
  },
  {
   "cell_type": "code",
   "execution_count": null,
   "metadata": {},
   "outputs": [],
   "source": [
    "#retrieve knn model with specified number of k\n",
    "knn = fit_knn(train_data, train_labels, 10)\n",
    "test_data = test_data[:100]\n",
    "test_labels = test_labels[:100]\n",
    "pred_labels = knn.predict(test_data)\n",
    "acc = 0\n",
    "for i in range(0,len(pred_labels)):\n",
    "    if pred_labels[i] == test_labels[i]:\n",
    "        acc += 1\n",
    "        \n",
    "print(acc)\n",
    "from sklearn.metrics import classification_report, confusion_matrix  \n",
    "# print(confusion_matrix(test_data, pred_labels))  \n",
    "# print(classification_report(test_data, pred_labels))  \n"
   ]
  },
  {
   "cell_type": "code",
   "execution_count": null,
   "metadata": {},
   "outputs": [],
   "source": []
  },
  {
   "cell_type": "code",
   "execution_count": null,
   "metadata": {},
   "outputs": [],
   "source": []
  }
 ],
 "metadata": {
  "kernelspec": {
   "display_name": "Python 3",
   "language": "python",
   "name": "python3"
  },
  "language_info": {
   "codemirror_mode": {
    "name": "ipython",
    "version": 3
   },
   "file_extension": ".py",
   "mimetype": "text/x-python",
   "name": "python",
   "nbconvert_exporter": "python",
   "pygments_lexer": "ipython3",
   "version": "3.6.5"
  }
 },
 "nbformat": 4,
 "nbformat_minor": 2
}
